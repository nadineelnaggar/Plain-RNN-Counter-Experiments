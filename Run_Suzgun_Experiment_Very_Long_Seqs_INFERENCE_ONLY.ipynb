{
  "nbformat": 4,
  "nbformat_minor": 0,
  "metadata": {
    "colab": {
      "name": "Run_Suzgun_Experiment_Very_Long_Seqs_INFERENCE_ONLY.ipynb",
      "provenance": [],
      "mount_file_id": "13Sz1kdge5m9PmXagouETXV4nKtnpM4Cu",
      "authorship_tag": "ABX9TyP5rNyzRVx9CKN585zYVkZc",
      "include_colab_link": true
    },
    "kernelspec": {
      "name": "python3",
      "display_name": "Python 3"
    },
    "language_info": {
      "name": "python"
    }
  },
  "cells": [
    {
      "cell_type": "markdown",
      "metadata": {
        "id": "view-in-github",
        "colab_type": "text"
      },
      "source": [
        "<a href=\"https://colab.research.google.com/github/nadineelnaggar/Plain-RNN-Counter-Experiments/blob/master/Run_Suzgun_Experiment_Very_Long_Seqs_INFERENCE_ONLY.ipynb\" target=\"_parent\"><img src=\"https://colab.research.google.com/assets/colab-badge.svg\" alt=\"Open In Colab\"/></a>"
      ]
    },
    {
      "cell_type": "code",
      "execution_count": 16,
      "metadata": {
        "id": "7RZ6O7xivHPA"
      },
      "outputs": [],
      "source": [
        ""
      ]
    },
    {
      "cell_type": "code",
      "execution_count": 17,
      "metadata": {
        "colab": {
          "base_uri": "https://localhost:8080/"
        },
        "id": "CwlRa22qzvZT",
        "outputId": "fe4a7800-6893-4410-9e8d-26c2d756b76f"
      },
      "outputs": [
        {
          "output_type": "stream",
          "name": "stdout",
          "text": [
            "Cloning into 'Plain-RNN-Counter-Experiments'...\n",
            "remote: Enumerating objects: 505, done.\u001b[K\n",
            "remote: Counting objects: 100% (505/505), done.\u001b[K\n",
            "remote: Compressing objects: 100% (340/340), done.\u001b[K\n",
            "remote: Total 505 (delta 323), reused 334 (delta 162), pack-reused 0\u001b[K\n",
            "Receiving objects: 100% (505/505), 22.02 MiB | 14.03 MiB/s, done.\n",
            "Resolving deltas: 100% (323/323), done.\n"
          ]
        }
      ],
      "source": [
        "!git clone https://github.com/nadineelnaggar/Plain-RNN-Counter-Experiments.git"
      ]
    },
    {
      "cell_type": "code",
      "source": [
        "%cd Plain-RNN-Counter-Experiments/"
      ],
      "metadata": {
        "colab": {
          "base_uri": "https://localhost:8080/"
        },
        "id": "JwFs8tNaDp4Q",
        "outputId": "d9e8ba71-9e1c-40d8-d5ac-ca0c2935ed2c"
      },
      "execution_count": 18,
      "outputs": [
        {
          "output_type": "stream",
          "name": "stdout",
          "text": [
            "/content/Plain-RNN-Counter-Experiments/Plain-RNN-Counter-Experiments/Plain-RNN-Counter-Experiments/Plain-RNN-Counter-Experiments/Plain-RNN-Counter-Experiments\n"
          ]
        }
      ]
    },
    {
      "cell_type": "code",
      "source": [
        "from google.colab import files\n",
        "from google.colab import drive\n",
        "\n",
        "drive.mount('/content/drive')"
      ],
      "metadata": {
        "colab": {
          "base_uri": "https://localhost:8080/"
        },
        "id": "AMpPea7xDur1",
        "outputId": "e53b1e74-d772-4b22-c83c-0119dd9d822b"
      },
      "execution_count": 19,
      "outputs": [
        {
          "output_type": "stream",
          "name": "stdout",
          "text": [
            "Drive already mounted at /content/drive; to attempt to forcibly remount, call drive.mount(\"/content/drive\", force_remount=True).\n"
          ]
        }
      ]
    },
    {
      "cell_type": "code",
      "source": [
        "\n",
        "!pip install xlsxwriter\n",
        "\n",
        "%load_ext tensorboard\n",
        "\n",
        "# !python main2.py --model_name=VanillaLSTM --task=NextTokenPrediction --feedback=EveryTimeStep --hidden_size=3 --num_layers=1 --learning_rate=0.01 --num_epochs=5 --num_runs=5\n",
        "!python main_batch_test_only.py --model_name=VanillaRNN --task=NextTokenPrediction --feedback=EveryTimeStep --hidden_size=3 --num_layers=1 --batch_size=100 --learning_rate=0.001 --num_epochs=5 --num_runs=10\n"
      ],
      "metadata": {
        "colab": {
          "base_uri": "https://localhost:8080/"
        },
        "id": "gANl55nEDxgT",
        "outputId": "d8c3882b-bfd8-4896-9236-79d01e1452f9"
      },
      "execution_count": 20,
      "outputs": [
        {
          "output_type": "stream",
          "name": "stdout",
          "text": [
            "Requirement already satisfied: xlsxwriter in /usr/local/lib/python3.7/dist-packages (3.0.3)\n",
            "The tensorboard extension is already loaded. To reload it, use:\n",
            "  %reload_ext tensorboard\n",
            "model_name =  VanillaRNN\n",
            "task =  NextTokenPrediction\n",
            "feedback =  EveryTimeStep\n",
            "hidden_size =  3\n",
            "num_layers =  1\n",
            "learning_rate =  0.001\n",
            "num_epochs =  5\n",
            "num_runs =  10\n",
            "short test accuracy = 100.0%\n",
            "long test accuracy = 100.0%\n"
          ]
        }
      ]
    },
    {
      "cell_type": "code",
      "source": [
        ""
      ],
      "metadata": {
        "id": "FGV3C3LvEEkZ"
      },
      "execution_count": 20,
      "outputs": []
    },
    {
      "cell_type": "code",
      "source": [
        "\n",
        "!pip install xlsxwriter\n",
        "\n",
        "%load_ext tensorboard\n",
        "\n",
        "# !python main2.py --model_name=VanillaLSTM --task=NextTokenPrediction --feedback=EveryTimeStep --hidden_size=3 --num_layers=1 --learning_rate=0.01 --num_epochs=5 --num_runs=5\n",
        "!python main_batch_test_only.py --model_name=VanillaGRU --task=NextTokenPrediction --feedback=EveryTimeStep --hidden_size=3 --num_layers=1 --batch_size=100 --learning_rate=0.001 --num_epochs=5 --num_runs=10\n"
      ],
      "metadata": {
        "colab": {
          "base_uri": "https://localhost:8080/"
        },
        "id": "IqCgs-KGy4f-",
        "outputId": "eaf2253a-6e86-4e91-d74f-e8de5326c22e"
      },
      "execution_count": 21,
      "outputs": [
        {
          "output_type": "stream",
          "name": "stdout",
          "text": [
            "Requirement already satisfied: xlsxwriter in /usr/local/lib/python3.7/dist-packages (3.0.3)\n",
            "The tensorboard extension is already loaded. To reload it, use:\n",
            "  %reload_ext tensorboard\n",
            "model_name =  VanillaGRU\n",
            "task =  NextTokenPrediction\n",
            "feedback =  EveryTimeStep\n",
            "hidden_size =  3\n",
            "num_layers =  1\n",
            "learning_rate =  0.001\n",
            "num_epochs =  5\n",
            "num_runs =  10\n",
            "short test accuracy = 100.0%\n",
            "long test accuracy = 100.0%\n"
          ]
        }
      ]
    },
    {
      "cell_type": "code",
      "source": [
        "\n",
        "!pip install xlsxwriter\n",
        "\n",
        "%load_ext tensorboard\n",
        "\n",
        "# !python main2.py --model_name=VanillaLSTM --task=NextTokenPrediction --feedback=EveryTimeStep --hidden_size=3 --num_layers=1 --learning_rate=0.01 --num_epochs=5 --num_runs=5\n",
        "!python main_batch_test_only.py --model_name=VanillaLSTM --task=NextTokenPrediction --feedback=EveryTimeStep --hidden_size=3 --num_layers=1 --batch_size=100 --learning_rate=0.01 --num_epochs=5 --num_runs=10\n"
      ],
      "metadata": {
        "colab": {
          "base_uri": "https://localhost:8080/"
        },
        "id": "l78ssDfLy7fz",
        "outputId": "bf12719c-2fe6-42eb-b44c-d2d5101f32a9"
      },
      "execution_count": 22,
      "outputs": [
        {
          "output_type": "stream",
          "name": "stdout",
          "text": [
            "Requirement already satisfied: xlsxwriter in /usr/local/lib/python3.7/dist-packages (3.0.3)\n",
            "The tensorboard extension is already loaded. To reload it, use:\n",
            "  %reload_ext tensorboard\n",
            "model_name =  VanillaLSTM\n",
            "task =  NextTokenPrediction\n",
            "feedback =  EveryTimeStep\n",
            "hidden_size =  3\n",
            "num_layers =  1\n",
            "learning_rate =  0.01\n",
            "num_epochs =  5\n",
            "num_runs =  10\n",
            "short test accuracy = 100.0%\n",
            "long test accuracy = 100.0%\n"
          ]
        }
      ]
    },
    {
      "cell_type": "code",
      "source": [
        ""
      ],
      "metadata": {
        "id": "HBvS4pSL0R3H"
      },
      "execution_count": null,
      "outputs": []
    }
  ]
}