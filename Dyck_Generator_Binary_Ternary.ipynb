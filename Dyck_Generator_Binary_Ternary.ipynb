{
  "nbformat": 4,
  "nbformat_minor": 0,
  "metadata": {
    "colab": {
      "name": "Dyck_Generator_Binary_Ternary.ipynb",
      "provenance": [],
      "collapsed_sections": [],
      "authorship_tag": "ABX9TyNmtQhabQD6+KeyQ5YSNfbP",
      "include_colab_link": true
    },
    "kernelspec": {
      "name": "python3",
      "display_name": "Python 3"
    },
    "language_info": {
      "name": "python"
    }
  },
  "cells": [
    {
      "cell_type": "markdown",
      "metadata": {
        "id": "view-in-github",
        "colab_type": "text"
      },
      "source": [
        "<a href=\"https://colab.research.google.com/github/nadineelnaggar/Plain-RNN-Counter-Experiments/blob/master/Dyck_Generator_Binary_Ternary.ipynb\" target=\"_parent\"><img src=\"https://colab.research.google.com/assets/colab-badge.svg\" alt=\"Open In Colab\"/></a>"
      ]
    },
    {
      "cell_type": "code",
      "execution_count": null,
      "metadata": {
        "id": "50kG6KEAjj1A"
      },
      "outputs": [],
      "source": [
        "import sys\n",
        "import numpy as np\n",
        "import torch\n",
        "from collections import defaultdict\n",
        "import random\n",
        "from random import randint"
      ]
    },
    {
      "cell_type": "code",
      "source": [
        "sys.setrecursionlimit(5000)\n",
        "\n",
        "all_pairs = ['()', '[]', '{}', '<>', '+-', 'ab', 'xo']\n",
        "all_letters = ''\n",
        "for elt in all_pairs:\n",
        "    all_letters += elt\n",
        "\n",
        "init_ascii = 48  ## corresponds to 0\n",
        "print(all_letters)"
      ],
      "metadata": {
        "colab": {
          "base_uri": "https://localhost:8080/"
        },
        "id": "9wamp6N8jmLe",
        "outputId": "acaed040-0698-465b-854c-6c547f085309"
      },
      "execution_count": null,
      "outputs": [
        {
          "output_type": "stream",
          "name": "stdout",
          "text": [
            "()[]{}<>+-abxo\n"
          ]
        }
      ]
    },
    {
      "cell_type": "code",
      "source": [
        "class DyckLanguage():\n",
        "    def __init__(self, num_pairs, p, q):\n",
        "        self.pair_num = num_pairs\n",
        "        self.pairs = all_pairs[:num_pairs]\n",
        "        self.vocabulary = all_letters[:2 * num_pairs]\n",
        "        self.n_letters = len(self.vocabulary)\n",
        "\n",
        "        self.openpar = [elt[0] for elt in self.pairs]\n",
        "        self.closepar = [elt[1] for elt in self.pairs]\n",
        "\n",
        "        self.p = p\n",
        "        self.q = q\n",
        "\n",
        "    # returns the vocabulary\n",
        "    def return_vocab(self):\n",
        "        return self.vocabulary\n",
        "\n",
        "    # generate a sample\n",
        "    def generate(self, current_size, max_size):\n",
        "        # Houston, we have a problem here. (Limit exceeded.)\n",
        "        if current_size >= max_size:\n",
        "            return ''\n",
        "\n",
        "        prob = random.random()\n",
        "        # Grammar: S -> (_i S )_i with prob p | SS with prob q | empty with prob 1 - (p+q)\n",
        "        if prob < self.p:\n",
        "            chosen_pair = np.random.choice(self.pairs)  # randomly pick one of the pairs.\n",
        "            sample = chosen_pair[0] + self.generate(current_size + 2, max_size) + chosen_pair[1]\n",
        "            if len(sample) <= max_size:\n",
        "                return sample\n",
        "        elif prob < self.p + self.q:\n",
        "            sample = self.generate(current_size, max_size) + self.generate(current_size, max_size)\n",
        "            if len(sample) <= max_size:\n",
        "                return sample\n",
        "        else:\n",
        "            return ''\n",
        "\n",
        "        return ''\n",
        "\n",
        "    # generate 'num' number of samples\n",
        "    def generate_list(self, num, min_size, max_size):\n",
        "        arr = []\n",
        "        size_info = defaultdict(list)\n",
        "        counter = 0\n",
        "        while counter < num:\n",
        "            sample = self.generate(0, max_size)\n",
        "            if sample not in arr and len(sample) >= min_size:\n",
        "                counter += 1\n",
        "                arr.append(sample)\n",
        "                # print(sample) #extra added by me\n",
        "                size_info[len(sample)].append(sample)\n",
        "                if counter % 500 == 0:\n",
        "                    print('{} samples generated.'.format(counter))\n",
        "\n",
        "        return arr, size_info\n",
        "\n",
        "    def output_generator(self, seq):\n",
        "        output_seq = ''\n",
        "        stack = []\n",
        "\n",
        "        for elt in seq:\n",
        "            dyck_counter = [0 for _ in range(self.pair_num)]\n",
        "\n",
        "            if elt in self.openpar:\n",
        "                stack.append(self.closepar[self.openpar.index(elt)])\n",
        "            else:\n",
        "                stack.pop()\n",
        "\n",
        "            if len(stack) > 0:\n",
        "                index = self.closepar.index(stack[-1])\n",
        "                dyck_counter[index] = 1\n",
        "\n",
        "            temp = np.nonzero(dyck_counter)\n",
        "\n",
        "            binary_code = 0\n",
        "\n",
        "            for base in temp[0]:\n",
        "                binary_code += (2 ** (base))\n",
        "\n",
        "            output_seq += chr(binary_code + init_ascii)\n",
        "\n",
        "            # print(output_seq) #extra added by me \n",
        "\n",
        "        return output_seq\n",
        "\n",
        "    def depth_counter(self, seq):\n",
        "        dyck_counter = np.zeros(self.pair_num)\n",
        "        max_depth = np.zeros((len(seq), self.pair_num))\n",
        "        counter = 0\n",
        "        for elt in seq:\n",
        "            indexl = 0\n",
        "            if elt in self.openpar:\n",
        "                indexl = self.openpar.index(elt)\n",
        "                dyck_counter[indexl] += 1\n",
        "            else:\n",
        "                indexl = self.closepar.index(elt)\n",
        "                dyck_counter[indexl] -= 1\n",
        "            max_depth[counter] = dyck_counter\n",
        "            counter += 1\n",
        "        return max_depth\n",
        "\n",
        "    def training_set_generator(self, num, min_size, max_size):\n",
        "        input_arr, input_size_arr = self.generate_list(num, min_size, max_size)\n",
        "        output_arr = []\n",
        "        # for seq in input_arr:\n",
        "        #    output_arr.append(self.output_generator(seq))\n",
        "        # return input_arr, output_arr, input_size_arr\n",
        "        ##### CHANGED HERE\n",
        "        return input_arr, input_size_arr\n",
        "\n",
        "    # Find letter index from all_letters\n",
        "    def letterToIndex(self, letter):\n",
        "        return all_letters.find(letter)\n",
        "\n",
        "    # Just for demonstration, turn a letter into a <1 x n_letters> Tensor\n",
        "    def letterToTensor(self, letter):\n",
        "        tensor = torch.zeros(1, self.n_letters)\n",
        "        tensor[0][self.letterToIndex(letter)] = 1\n",
        "        return tensor\n",
        "\n",
        "    # Turn a line into a <line_length x 1 x n_letters>,\n",
        "    # or an array of one-hot letter vectors\n",
        "    def lineToTensor(self, line):\n",
        "        tensor = torch.zeros(len(line), 1, self.n_letters)\n",
        "        for li, letter in enumerate(line):\n",
        "            tensor[li][0][self.letterToIndex(letter)] = 1.0\n",
        "        return tensor\n",
        "\n",
        "    def lineToTensorSigmoid(self, line):\n",
        "        tensor = torch.zeros(len(line), self.n_letters)\n",
        "        for li, letter in enumerate(line):\n",
        "            for elt in self.openpar:\n",
        "                tensor[li][self.letterToIndex(elt)] = 1.0\n",
        "\n",
        "            binary_code = ord(letter) - init_ascii\n",
        "\n",
        "            if binary_code > 0:\n",
        "                for base in range(len(self.closepar) - 1, -1, -1):\n",
        "                    if binary_code - (2 ** base) >= 0:\n",
        "                        tensor[li][self.letterToIndex(self.closepar[base])] = 1.0\n",
        "                        binary_code -= (2 ** base)\n",
        "        return tensor"
      ],
      "metadata": {
        "id": "iFiBp3cYjoZ4"
      },
      "execution_count": null,
      "outputs": []
    },
    {
      "cell_type": "code",
      "source": [
        "NUM_PAR = 1\n",
        "MIN_SIZE = 2\n",
        "MAX_SIZE = 50\n",
        "P_VAL = 0.5\n",
        "Q_VAL = 0.25"
      ],
      "metadata": {
        "id": "zyf0gl-zkGE4"
      },
      "execution_count": null,
      "outputs": []
    },
    {
      "cell_type": "code",
      "source": [
        "Dyck = DyckLanguage (NUM_PAR, P_VAL, Q_VAL)\n",
        "all_letters = word_set = Dyck.return_vocab ()\n",
        "n_letters = vocab_size = len (word_set)\n",
        "print(all_letters)\n",
        "print(n_letters)"
      ],
      "metadata": {
        "colab": {
          "base_uri": "https://localhost:8080/"
        },
        "id": "TNiEt9p7kIXu",
        "outputId": "6b38a8f2-0095-46ac-d385-8ca211799907"
      },
      "execution_count": null,
      "outputs": [
        {
          "output_type": "stream",
          "name": "stdout",
          "text": [
            "()\n",
            "2\n"
          ]
        }
      ]
    },
    {
      "cell_type": "code",
      "source": [
        "# Number of samples in the training corpus\n",
        "TRAINING_SIZE = 10000\n",
        "# Number of samples in the test corpus\n",
        "TEST_SIZE = 5000\n",
        "print('Loading data...')\n",
        "\n",
        "training_input, training_input_lengths = Dyck.training_set_generator (TRAINING_SIZE, MIN_SIZE, MAX_SIZE)\n",
        "print('training input generated')\n",
        "test_input, test_input_lenghts = Dyck.training_set_generator (TEST_SIZE, MAX_SIZE + 2, 2 * MAX_SIZE)\n",
        "print('test output generated')\n",
        "\n",
        "\n",
        "\n"
      ],
      "metadata": {
        "colab": {
          "base_uri": "https://localhost:8080/"
        },
        "id": "bM7M5VikkWGD",
        "outputId": "41f7ffc0-305f-414c-8c16-da347059a9be"
      },
      "execution_count": null,
      "outputs": [
        {
          "output_type": "stream",
          "name": "stdout",
          "text": [
            "Loading data...\n",
            "500 samples generated.\n",
            "1000 samples generated.\n",
            "1500 samples generated.\n",
            "2000 samples generated.\n",
            "2500 samples generated.\n",
            "3000 samples generated.\n",
            "3500 samples generated.\n",
            "4000 samples generated.\n",
            "4500 samples generated.\n",
            "5000 samples generated.\n",
            "5500 samples generated.\n",
            "6000 samples generated.\n",
            "6500 samples generated.\n",
            "7000 samples generated.\n",
            "7500 samples generated.\n",
            "8000 samples generated.\n",
            "8500 samples generated.\n",
            "9000 samples generated.\n",
            "9500 samples generated.\n",
            "10000 samples generated.\n",
            "training input generated\n",
            "500 samples generated.\n",
            "1000 samples generated.\n",
            "1500 samples generated.\n",
            "2000 samples generated.\n",
            "2500 samples generated.\n",
            "3000 samples generated.\n",
            "3500 samples generated.\n",
            "4000 samples generated.\n",
            "4500 samples generated.\n",
            "5000 samples generated.\n",
            "test output generated\n"
          ]
        }
      ]
    },
    {
      "cell_type": "code",
      "source": [
        "def make_invalid(indices, seqs):\n",
        "    \"\"\"\n",
        "    input a valid sequence and distort it to make it invalid by either\n",
        "        - swapping the order of opening and closing brackets (equal number but wrong order)\n",
        "        - replacing opening brackets with closing brackets so that there is an excess of closing brackets\n",
        "    :return:\n",
        "    \"\"\"\n",
        "    incorrect_order = []\n",
        "    excess_close = []\n",
        "\n",
        "    for i in range(len(indices)):\n",
        "\n",
        "        if i%2 !=0:\n",
        "            excess_close.append(indices[i])\n",
        "        elif i%2==0 or i==0:\n",
        "            incorrect_order.append(indices[i])\n",
        "\n",
        "    for i in range(len(incorrect_order)):\n",
        "        seq = seqs[incorrect_order[i]]\n",
        "\n",
        "\n",
        "        # print('***********************')\n",
        "        # print('index in original array = ', incorrect_order[i])\n",
        "        # print(seq)\n",
        "        # print(len(seq))\n",
        "        # print(seq[0])\n",
        "        # print(seq.find('('))\n",
        "        seq = seq[-1:]+seq[:-1]\n",
        "        # print(seq)\n",
        "        seqs[incorrect_order[i]]=seq\n",
        "\n",
        "    for i in range(len(excess_close)):\n",
        "        # print('%%%%%%%%%%%%%%%%%%%%%%%%%%%%%%%%%')\n",
        "        # print('index in original array = ', excess_close[i])\n",
        "        seq = seqs[excess_close[i]]\n",
        "        # print(seq)\n",
        "        # print(len(seq))\n",
        "        # print(seq[0])\n",
        "        ind = seq.find('()')\n",
        "        # print(ind)\n",
        "        # # seq[ind]= ')'\n",
        "        # # seq[ind+1]='('\n",
        "        # print(ind+1)\n",
        "        seq = seq[:ind]+')'+seq[ind+1:]\n",
        "        # print(seq)\n",
        "        seqs[excess_close[i]] = seq\n",
        "    return seqs\n"
      ],
      "metadata": {
        "id": "MLGUOK-Qlf48"
      },
      "execution_count": null,
      "outputs": []
    },
    {
      "cell_type": "code",
      "source": [
        "def make_incomplete(indices, seqs):\n",
        "    \"\"\"\n",
        "    input a valid sequence and distort it to make it potentially valid by\n",
        "        - replacing one or more closing brackets in a random location with an opening bracket\n",
        "    :return:\n",
        "    \"\"\"\n",
        "\n",
        "    for i in range(len(indices)):\n",
        "        seq = seqs[indices[i]]\n",
        "\n",
        "\n",
        "        # print('^^^^^^^^^^^^^^^^^^^^^^^^^^^^^^^^^^')\n",
        "        # print('index in original array = ', indices[i])\n",
        "        # print(seq)\n",
        "        # print(len(seq))\n",
        "        # print(seq[0])\n",
        "        # # print(seq.find(')'))\n",
        "\n",
        "        ind = seq.find(')')\n",
        "        # print(ind)\n",
        "        # # seq[ind]= ')'\n",
        "        # # seq[ind+1]='('\n",
        "        # print(ind + 1)\n",
        "        seq = seq[:ind] + '(' + seq[ind + 1:]\n",
        "        # print(seq)\n",
        "        # # seqs[excess_close[i]] = seq\n",
        "        #\n",
        "        # # seq = seq[-1:]+seq[:-1]\n",
        "        # # print(seq)\n",
        "        seqs[indices[i]]=seq\n",
        "    return seqs"
      ],
      "metadata": {
        "id": "FMdG03Zyu8S1"
      },
      "execution_count": null,
      "outputs": []
    },
    {
      "cell_type": "code",
      "source": [
        "def generateBinaryDataset(seqs):\n",
        "    \n",
        "    invalid_indices = []\n",
        "    incomplete_indices = []\n",
        "    labels = []\n",
        "    labels_timestep = []\n",
        "    for i in range(len(seqs)):\n",
        "        labels.append('valid')\n",
        "\n",
        "    # make 1/3 of invalid sequences have excess opening, 1/3 have excess closing, and 1/3 have incorrect order\n",
        "    for i in range(100000):\n",
        "        value = randint(1, len(seqs) - 1)\n",
        "        if value not in invalid_indices and value not in incomplete_indices and len(invalid_indices) < len(seqs) / 3:\n",
        "            invalid_indices.append(value)\n",
        "        value2 = randint(1, len(seqs) - 1)\n",
        "        if value2 not in invalid_indices and value2 not in incomplete_indices and len(incomplete_indices) < len(\n",
        "                seqs) / 6:\n",
        "            incomplete_indices.append(value2)\n",
        "\n",
        "        if len(incomplete_indices) == len(invalid_indices) == len(seqs) / 3:\n",
        "            break\n",
        "\n",
        "    # print(invalid_indices)\n",
        "    # print(incomplete_indices)\n",
        "    # print(len(invalid_indices))\n",
        "    # print(len(incomplete_indices))\n",
        "\n",
        "    make_invalid(invalid_indices, seqs)\n",
        "    make_incomplete(incomplete_indices, seqs)\n",
        "\n",
        "    for i in range(len(incomplete_indices)):\n",
        "        labels[incomplete_indices[i]] = 'invalid'\n",
        "\n",
        "    for i in range(len(invalid_indices)):\n",
        "        labels[invalid_indices[i]] = 'invalid'\n",
        "    \n",
        "\n",
        "    for i in range(len(seqs)):\n",
        "      seq = seqs[i]\n",
        "      count = 0\n",
        "      output_seq = ''\n",
        "\n",
        "      for index, char in enumerate(seq):\n",
        "\n",
        "        if char == '(':\n",
        "          # print(char)\n",
        "          if count>0:\n",
        "            count+=1\n",
        "            output_seq = output_seq+'1'\n",
        "            # print(output_seq)\n",
        "          elif count==0:\n",
        "            count+=1\n",
        "            output_seq = output_seq+'1'\n",
        "            # print(output_seq)\n",
        "          elif count==-1:\n",
        "            output_seq = output_seq+'1'\n",
        "            # print(output_seq)\n",
        "        elif char==')':\n",
        "          # print(char)\n",
        "          if count>0:\n",
        "            count-=1\n",
        "            if count>0:\n",
        "              output_seq = output_seq+'1'\n",
        "            elif count==0:\n",
        "              output_seq = output_seq+'0'\n",
        "            # print(output_seq)\n",
        "          # elif count>1:\n",
        "          #   count-=1\n",
        "          #   output_seq = output_seq+'0'\n",
        "          # elif count==0:\n",
        "          #   count=-1\n",
        "          #   output_seq = output_seq+'0'\n",
        "          #   print(output_seq)\n",
        "          elif count<=0:\n",
        "            output_seq = output_seq+'1'\n",
        "            # print(output_seq)\n",
        "      labels_timestep.append(output_seq)\n",
        "      # for index, char in enumerate(seq):\n",
        "\n",
        "      #   if char == '(':\n",
        "      #     if count>0:\n",
        "      #       count+=1\n",
        "      #       output_seq = output_seq+'1'\n",
        "      #     elif count==0:\n",
        "      #       count+=1\n",
        "      #       output_seq = output_seq+'1'\n",
        "      #     elif count==-1:\n",
        "      #       output_seq = output_seq+'1'\n",
        "      #   elif char==')':\n",
        "      #     if count>0:\n",
        "      #       count-=1\n",
        "      #       output_seq = output_seq+'1'\n",
        "      #     # elif count>1:\n",
        "      #     #   count-=1\n",
        "      #     #   output_seq = output_seq+'0'\n",
        "      #     elif count==0:\n",
        "      #       count=-1\n",
        "      #       output_seq = output_seq+'0'\n",
        "      #     elif count==-1:\n",
        "      #       output_seq = output_seq+'1'\n",
        "        # labels_timestep.append(output_seq)\n",
        "\n",
        "        # if count>0:\n",
        "        #   output_seq = output_seq+'1'\n",
        "        #   if char=='(':\n",
        "        #     count+=1\n",
        "        #   elif char==')':\n",
        "        #     count-=1\n",
        "        # elif count==0:\n",
        "        #   output_seq=output_seq+'0'\n",
        "        #   if char=='(':\n",
        "        #     count+=1\n",
        "        #   elif char==')':\n",
        "        #     count = -1\n",
        "        # elif count==-1:\n",
        "        #   output_seq=output_seq+'1'\n",
        "\n",
        "\n",
        "\n",
        "\n",
        "    # document_name = 'Dyck1_BinaryDataset_'+str(start_n)+'to'+str(end_n)+'pairs_'+str(dataset_size)+'elements_balanced.txt'\n",
        "    # with open(document_name,'a') as f:\n",
        "    #     for i in range(len(seqs)):\n",
        "    #         f.write(seqs[i] + ',' + labels[i] + '\\n')\n",
        "    # print('',document_name,' completed')\n",
        "    return seqs, labels, labels_timestep"
      ],
      "metadata": {
        "id": "HwtY7AADvCNd"
      },
      "execution_count": null,
      "outputs": []
    },
    {
      "cell_type": "code",
      "source": [
        "def generateTernaryDataset(seqs):\n",
        "\n",
        "    invalid_indices = []\n",
        "    incomplete_indices = []\n",
        "    labels = []\n",
        "    labels_timestep = []\n",
        "    for i in range(len(seqs)):\n",
        "        labels.append('valid')\n",
        "\n",
        "    for i in range(100000):\n",
        "        value = randint(1, len(seqs) - 1)\n",
        "        if value not in invalid_indices and value not in incomplete_indices and len(invalid_indices) < len(seqs) / 3:\n",
        "            invalid_indices.append(value)\n",
        "        value2 = randint(1, len(seqs) - 1)\n",
        "        if value2 not in invalid_indices and value2 not in incomplete_indices and len(incomplete_indices) < len(\n",
        "                seqs) / 3:\n",
        "            incomplete_indices.append(value2)\n",
        "\n",
        "        if len(incomplete_indices) == len(invalid_indices) == len(seqs) / 3:\n",
        "            break\n",
        "\n",
        "    # print(invalid_indices)\n",
        "    # print(incomplete_indices)\n",
        "    # print(len(invalid_indices))\n",
        "    # print(len(incomplete_indices))\n",
        "\n",
        "    make_invalid(invalid_indices, seqs)\n",
        "    make_incomplete(incomplete_indices, seqs)\n",
        "\n",
        "    for i in range(len(incomplete_indices)):\n",
        "        labels[incomplete_indices[i]] = 'incomplete'\n",
        "\n",
        "    for i in range(len(invalid_indices)):\n",
        "        labels[invalid_indices[i]] = 'invalid'\n",
        "    # document_name = 'Dyck1_TernaryDataset_'+str(start_n)+'to'+str(end_n)+'pairs_'+str(dataset_size)+'elements_balanced.txt'\n",
        "    # with open(document_name,'a') as f:\n",
        "    #     for i in range(len(seqs)):\n",
        "    #         f.write(seqs[i] + ',' + labels[i] + '\\n')\n",
        "    # print('',document_name,' completed')\n",
        "\n",
        "    for i in range(len(seqs)):\n",
        "      seq = seqs[i]\n",
        "      count = 0\n",
        "      output_seq = ''\n",
        "      for index, char in enumerate(seq):\n",
        "        \n",
        "      # for index, char in enumerate(seq):\n",
        "\n",
        "        if char == '(':\n",
        "          # print('char = ',char)\n",
        "          # print('count = ',count)\n",
        "          if count>0:\n",
        "            count+=1\n",
        "            output_seq = output_seq+'1'\n",
        "            # print(output_seq)\n",
        "          elif count==0:\n",
        "            count+=1\n",
        "            output_seq = output_seq+'1'\n",
        "            # print(output_seq)\n",
        "          elif count==-1:\n",
        "            output_seq = output_seq+'2'\n",
        "            # print(output_seq)\n",
        "        elif char==')':\n",
        "          # print('char = ',char)\n",
        "          # print('count = ',count)\n",
        "          if count>0:\n",
        "            count-=1\n",
        "            if count>0:\n",
        "              output_seq = output_seq+'1'\n",
        "            elif count==0:\n",
        "              output_seq = output_seq+'0'\n",
        "            # print(output_seq)\n",
        "          elif count==0:\n",
        "            count=-1\n",
        "            output_seq = output_seq+'2'\n",
        "            # print(output_seq)\n",
        "          # elif count>1:\n",
        "          #   count-=1\n",
        "          #   output_seq = output_seq+'0'\n",
        "          # elif count==0:\n",
        "          #   count=-1\n",
        "          #   output_seq = output_seq+'0'\n",
        "          #   print(output_seq)\n",
        "          elif count<0:\n",
        "            output_seq = output_seq+'2'\n",
        "      labels_timestep.append(output_seq)\n",
        "\n",
        "        # if char == '(':\n",
        "        #   if count>0:\n",
        "        #     count+=1\n",
        "        #     output_seq = output_seq+'1'\n",
        "        #   elif count==0:\n",
        "        #     count+=1\n",
        "        #     output_seq = output_seq+'0'\n",
        "        #   elif count==-1:\n",
        "        #     output_seq = output_seq+'1'\n",
        "        # elif char==')':\n",
        "        #   if count>1:\n",
        "        #     count-=1\n",
        "        #     output_seq = output_seq+'1'\n",
        "        #   elif count>1:\n",
        "        #     count-=1\n",
        "        #     output_seq = output_seq+'0'\n",
        "        #   elif count==0:\n",
        "        #     count=-1\n",
        "        #     output_seq = output_seq+'1'\n",
        "        #   elif count==-1:\n",
        "        #     output_seq = output_seq+'1'\n",
        "        # labels_timestep.append(output_seq)\n",
        "\n",
        "  \n",
        "    return seqs, labels, labels_timestep"
      ],
      "metadata": {
        "id": "iluAb6gQym5x"
      },
      "execution_count": null,
      "outputs": []
    },
    {
      "cell_type": "code",
      "source": [
        "training_input_binary, training_output_binary, training_output_binary_timestep = generateBinaryDataset(training_input)\n",
        "print('training input labels generated')\n",
        "test_input_binary, test_output_binary, test_output_binary_timestep = generateBinaryDataset(test_input)\n",
        "print('test input labels generated')"
      ],
      "metadata": {
        "colab": {
          "base_uri": "https://localhost:8080/"
        },
        "id": "5-q5N_EM0Ell",
        "outputId": "f4f544c3-5f31-4198-95eb-84db88ff690a"
      },
      "execution_count": null,
      "outputs": [
        {
          "output_type": "stream",
          "name": "stdout",
          "text": [
            "training input labels generated\n",
            "test input labels generated\n"
          ]
        }
      ]
    },
    {
      "cell_type": "code",
      "source": [
        "print('Binary training data generated, writing training set to document')\n",
        "with open('Dyck1_Dataset_Binary_train_.txt', 'a') as f:\n",
        "  for i in range(len(training_input_binary)):\n",
        "    # f.write(str(training_input[i])+','+str(training_output[i])+','+str(training_input_lengths[i])+'\\n')\n",
        "    f.write(str(training_input_binary[i])+','+str(training_output_binary[i])+','+training_output_binary_timestep[i]+'\\n')\n",
        "\n",
        "\n",
        "\n",
        "# training_input, training_output, training_input_lengths = Dyck.training_set_generator (TRAINING_SIZE, MIN_SIZE, MAX_SIZE)\n",
        "# print('training data generated, writing training set to document')\n",
        "# with open('Dyck1_Dataset_Suzgun_train.txt', 'a') as f:\n",
        "#   for i in range(len(training_input)):\n",
        "#     f.write(str(training_input[i])+','+str(training_output[i])+','+str(training_input_lengths[i])+'\\n')\n",
        "\n",
        "print('binary train set written to document')\n",
        "\n",
        "\n",
        "print('binary test data generated, writing test set to document')\n",
        "# test_input, test_output, test_input_lengths = Dyck.training_set_generator (TEST_SIZE, MAX_SIZE + 2, 2 * MAX_SIZE)\n",
        "with open('Dyck1_Dataset_Binary_test_.txt', 'a') as f:\n",
        "  for i in range(len(test_input)):\n",
        "    # f.write(str(test_input[i])+','+str(test_output[i])+','+str(test_input_lengths[i])+'\\n')\n",
        "    f.write(str(test_input_binary[i])+','+str(test_output_binary[i])+','+test_output_binary_timestep[i]+'\\n')\n",
        "\n",
        "print('test set written to document')"
      ],
      "metadata": {
        "colab": {
          "base_uri": "https://localhost:8080/"
        },
        "id": "InnmI6H0kqe0",
        "outputId": "0b9c7a43-cbad-4693-e722-81ab2b86c94a"
      },
      "execution_count": null,
      "outputs": [
        {
          "output_type": "stream",
          "name": "stdout",
          "text": [
            "Binary training data generated, writing training set to document\n",
            "binary train set written to document\n",
            "binary test data generated, writing test set to document\n",
            "test set written to document\n"
          ]
        }
      ]
    },
    {
      "cell_type": "code",
      "source": [
        "training_input_ternary, training_output_ternary, training_output_ternary_timestep = generateTernaryDataset(training_input)\n",
        "print('training input labels generated')\n",
        "test_input_ternary, test_output_ternary, test_output_ternary_timestep = generateTernaryDataset(test_input)\n",
        "print('test input labels generated')"
      ],
      "metadata": {
        "colab": {
          "base_uri": "https://localhost:8080/"
        },
        "id": "0VTGj8wI0m4H",
        "outputId": "47706845-4385-4c9f-8881-eaaa7552c0f1"
      },
      "execution_count": null,
      "outputs": [
        {
          "output_type": "stream",
          "name": "stdout",
          "text": [
            "training input labels generated\n",
            "test input labels generated\n"
          ]
        }
      ]
    },
    {
      "cell_type": "code",
      "source": [
        "print('Ternary training data generated, writing training set to document')\n",
        "with open('Dyck1_Dataset_Ternary_train_.txt', 'a') as f:\n",
        "  for i in range(len(training_input_ternary)):\n",
        "    # f.write(str(training_input[i])+','+str(training_output[i])+','+str(training_input_lengths[i])+'\\n')\n",
        "    f.write(str(training_input_ternary[i])+','+str(training_output_ternary[i])+','+training_output_ternary_timestep[i]+'\\n')\n",
        "\n",
        "\n",
        "\n",
        "# training_input, training_output, training_input_lengths = Dyck.training_set_generator (TRAINING_SIZE, MIN_SIZE, MAX_SIZE)\n",
        "# print('training data generated, writing training set to document')\n",
        "# with open('Dyck1_Dataset_Suzgun_train.txt', 'a') as f:\n",
        "#   for i in range(len(training_input)):\n",
        "#     f.write(str(training_input[i])+','+str(training_output[i])+','+str(training_input_lengths[i])+'\\n')\n",
        "\n",
        "print('ternary train set written to document')\n",
        "\n",
        "\n",
        "print('ternary test data generated, writing test set to document')\n",
        "# test_input, test_output, test_input_lengths = Dyck.training_set_generator (TEST_SIZE, MAX_SIZE + 2, 2 * MAX_SIZE)\n",
        "with open('Dyck1_Dataset_Ternary_test_.txt', 'a') as f:\n",
        "  for i in range(len(test_input)):\n",
        "    # f.write(str(test_input[i])+','+str(test_output[i])+','+str(test_input_lengths[i])+'\\n')\n",
        "    f.write(str(test_input_ternary[i])+','+str(test_output_ternary[i])+','+test_output_ternary_timestep[i]+'\\n')\n",
        "\n",
        "print('test set written to document')"
      ],
      "metadata": {
        "colab": {
          "base_uri": "https://localhost:8080/"
        },
        "id": "TCdSkxf-1Q7S",
        "outputId": "39fe9d85-82f6-4f17-df17-330348adb184"
      },
      "execution_count": null,
      "outputs": [
        {
          "output_type": "stream",
          "name": "stdout",
          "text": [
            "Ternary training data generated, writing training set to document\n",
            "ternary train set written to document\n",
            "ternary test data generated, writing test set to document\n",
            "test set written to document\n"
          ]
        }
      ]
    },
    {
      "cell_type": "code",
      "source": [
        "print('done')"
      ],
      "metadata": {
        "colab": {
          "base_uri": "https://localhost:8080/"
        },
        "id": "VkOvZw8k1jpa",
        "outputId": "ef8e3363-3ca3-407b-ee35-4267308e29a3"
      },
      "execution_count": null,
      "outputs": [
        {
          "output_type": "stream",
          "name": "stdout",
          "text": [
            "done\n"
          ]
        }
      ]
    },
    {
      "cell_type": "code",
      "source": [
        "      seq = '((()))'\n",
        "      seq = '()()()'\n",
        "      seq = '(())()'\n",
        "      # seq = '))('\n",
        "      seq = '((()))(('\n",
        "      \n",
        "      count = 0\n",
        "      output_seq = ''\n",
        "      for index, char in enumerate(seq):\n",
        "\n",
        "        if char == '(':\n",
        "          print(char)\n",
        "          if count>0:\n",
        "            count+=1\n",
        "            output_seq = output_seq+'1'\n",
        "            print(output_seq)\n",
        "          elif count==0:\n",
        "            count+=1\n",
        "            output_seq = output_seq+'1'\n",
        "            print(output_seq)\n",
        "          elif count==-1:\n",
        "            output_seq = output_seq+'1'\n",
        "            print(output_seq)\n",
        "        elif char==')':\n",
        "          print(char)\n",
        "          if count>0:\n",
        "            count-=1\n",
        "            if count>0:\n",
        "              output_seq = output_seq+'1'\n",
        "            elif count==0:\n",
        "              output_seq = output_seq+'0'\n",
        "            print(output_seq)\n",
        "          # elif count>1:\n",
        "          #   count-=1\n",
        "          #   output_seq = output_seq+'0'\n",
        "          # elif count==0:\n",
        "          #   count=-1\n",
        "          #   output_seq = output_seq+'0'\n",
        "          #   print(output_seq)\n",
        "          elif count<=0:\n",
        "            output_seq = output_seq+'1'\n",
        "            print(output_seq)\n",
        "      print(output_seq)"
      ],
      "metadata": {
        "colab": {
          "base_uri": "https://localhost:8080/"
        },
        "id": "SCqb6_9S3BVE",
        "outputId": "53af16ea-4350-483a-fc39-e0afff580d92"
      },
      "execution_count": null,
      "outputs": [
        {
          "output_type": "stream",
          "name": "stdout",
          "text": [
            "(\n",
            "1\n",
            "(\n",
            "11\n",
            "(\n",
            "111\n",
            ")\n",
            "1111\n",
            ")\n",
            "11111\n",
            ")\n",
            "111110\n",
            "(\n",
            "1111101\n",
            "(\n",
            "11111011\n",
            "11111011\n"
          ]
        }
      ]
    },
    {
      "cell_type": "code",
      "source": [
        "      seq = '((()))'\n",
        "      # seq = '()()()'\n",
        "      # seq = '(())()'\n",
        "      # seq = '))('\n",
        "      seq = '((()))(('\n",
        "          \n",
        "      count = 0\n",
        "      output_seq = ''\n",
        "      for index, char in enumerate(seq):\n",
        "\n",
        "        if char == '(':\n",
        "          print('char = ',char)\n",
        "          print('count = ',count)\n",
        "          if count>0:\n",
        "            count+=1\n",
        "            output_seq = output_seq+'1'\n",
        "            print(output_seq)\n",
        "          elif count==0:\n",
        "            count+=1\n",
        "            output_seq = output_seq+'1'\n",
        "            print(output_seq)\n",
        "          elif count==-1:\n",
        "            output_seq = output_seq+'2'\n",
        "            print(output_seq)\n",
        "        elif char==')':\n",
        "          print('char = ',char)\n",
        "          print('count = ',count)\n",
        "          if count>0:\n",
        "            count-=1\n",
        "            if count>0:\n",
        "              output_seq = output_seq+'1'\n",
        "            elif count==0:\n",
        "              output_seq = output_seq+'0'\n",
        "            print(output_seq)\n",
        "          elif count==0:\n",
        "            count=-1\n",
        "            output_seq = output_seq+'2'\n",
        "            print(output_seq)\n",
        "          # elif count>1:\n",
        "          #   count-=1\n",
        "          #   output_seq = output_seq+'0'\n",
        "          # elif count==0:\n",
        "          #   count=-1\n",
        "          #   output_seq = output_seq+'0'\n",
        "          #   print(output_seq)\n",
        "          elif count<0:\n",
        "            output_seq = output_seq+'2'\n",
        "            print(output_seq)\n",
        "          print('final count = ',count)\n",
        "          print('final output_seq = ',output_seq)\n",
        "      print(output_seq)"
      ],
      "metadata": {
        "colab": {
          "base_uri": "https://localhost:8080/"
        },
        "id": "2tQhLLSYBTTh",
        "outputId": "b9a521eb-f5dd-47fe-d6b2-23a3442048c8"
      },
      "execution_count": null,
      "outputs": [
        {
          "output_type": "stream",
          "name": "stdout",
          "text": [
            "char =  (\n",
            "count =  0\n",
            "1\n",
            "char =  (\n",
            "count =  1\n",
            "11\n",
            "char =  (\n",
            "count =  2\n",
            "111\n",
            "char =  )\n",
            "count =  3\n",
            "1111\n",
            "final count =  2\n",
            "final output_seq =  1111\n",
            "char =  )\n",
            "count =  2\n",
            "11111\n",
            "final count =  1\n",
            "final output_seq =  11111\n",
            "char =  )\n",
            "count =  1\n",
            "111110\n",
            "final count =  0\n",
            "final output_seq =  111110\n",
            "char =  (\n",
            "count =  0\n",
            "1111101\n",
            "char =  (\n",
            "count =  1\n",
            "11111011\n",
            "11111011\n"
          ]
        }
      ]
    },
    {
      "cell_type": "code",
      "source": [
        "print('test')"
      ],
      "metadata": {
        "colab": {
          "base_uri": "https://localhost:8080/"
        },
        "id": "OuhkZEZ_FAjL",
        "outputId": "1d3f6c0b-c98d-44e1-a2ab-0d2d6214c4d8"
      },
      "execution_count": null,
      "outputs": [
        {
          "output_type": "stream",
          "name": "stdout",
          "text": [
            "test\n"
          ]
        }
      ]
    },
    {
      "cell_type": "code",
      "source": [
        ""
      ],
      "metadata": {
        "id": "_34cl3PKUN7A"
      },
      "execution_count": null,
      "outputs": []
    }
  ]
}