{
  "nbformat": 4,
  "nbformat_minor": 0,
  "metadata": {
    "colab": {
      "name": "Generate_Dyck1_Sequences.ipynb",
      "provenance": [],
      "authorship_tag": "ABX9TyPMdtH+KdhBVC3CM4nCXZZH",
      "include_colab_link": true
    },
    "kernelspec": {
      "name": "python3",
      "display_name": "Python 3"
    },
    "language_info": {
      "name": "python"
    }
  },
  "cells": [
    {
      "cell_type": "markdown",
      "metadata": {
        "id": "view-in-github",
        "colab_type": "text"
      },
      "source": [
        "<a href=\"https://colab.research.google.com/github/nadineelnaggar/Plain-RNN-Counter-Experiments/blob/master/Generate_Dyck1_Sequences.ipynb\" target=\"_parent\"><img src=\"https://colab.research.google.com/assets/colab-badge.svg\" alt=\"Open In Colab\"/></a>"
      ]
    },
    {
      "cell_type": "code",
      "execution_count": 1,
      "metadata": {
        "colab": {
          "base_uri": "https://localhost:8080/"
        },
        "id": "GMTfNoEUuIr8",
        "outputId": "138c4151-9bd4-4f90-8a98-8f46c51b0376"
      },
      "outputs": [
        {
          "output_type": "stream",
          "name": "stdout",
          "text": [
            "Cloning into 'Plain-RNN-Counter-Experiments'...\n",
            "remote: Enumerating objects: 59, done.\u001b[K\n",
            "remote: Counting objects: 100% (59/59), done.\u001b[K\n",
            "remote: Compressing objects: 100% (35/35), done.\u001b[K\n",
            "remote: Total 59 (delta 22), reused 55 (delta 21), pack-reused 0\u001b[K\n",
            "Unpacking objects: 100% (59/59), done.\n"
          ]
        }
      ],
      "source": [
        "!git clone https://github.com/nadineelnaggar/Plain-RNN-Counter-Experiments.git"
      ]
    },
    {
      "cell_type": "code",
      "source": [
        "!python Dyck_Generator_Suzgun.py"
      ],
      "metadata": {
        "colab": {
          "base_uri": "https://localhost:8080/"
        },
        "id": "H4XDGNx0uQii",
        "outputId": "72600e3f-b013-482f-c737-aa2558a596ec"
      },
      "execution_count": 2,
      "outputs": [
        {
          "output_type": "stream",
          "name": "stdout",
          "text": [
            "python3: can't open file 'Dyck_Generator_Suzgun.py': [Errno 2] No such file or directory\n"
          ]
        }
      ]
    },
    {
      "cell_type": "code",
      "source": [
        "%cd Plain-RNN-Counter-Experiments/"
      ],
      "metadata": {
        "colab": {
          "base_uri": "https://localhost:8080/"
        },
        "id": "uI5cb5y6ufgD",
        "outputId": "f5a0beb8-ae82-46e7-b522-9bcdfdbcfe2e"
      },
      "execution_count": 3,
      "outputs": [
        {
          "output_type": "stream",
          "name": "stdout",
          "text": [
            "/content/Plain-RNN-Counter-Experiments\n"
          ]
        }
      ]
    },
    {
      "cell_type": "code",
      "source": [
        "!python Dyck_Generator_Suzgun.py"
      ],
      "metadata": {
        "colab": {
          "base_uri": "https://localhost:8080/"
        },
        "id": "u65Xn9Oxum7j",
        "outputId": "7d46e86e-b743-4f49-f246-f36825c33d69"
      },
      "execution_count": null,
      "outputs": [
        {
          "output_type": "stream",
          "name": "stdout",
          "text": [
            "Loading data...\n"
          ]
        }
      ]
    },
    {
      "cell_type": "code",
      "source": [
        ""
      ],
      "metadata": {
        "id": "CKUaBLWXuq0n"
      },
      "execution_count": null,
      "outputs": []
    }
  ]
}