{
  "nbformat": 4,
  "nbformat_minor": 0,
  "metadata": {
    "colab": {
      "name": "Generate_Dyck1_Sequences.ipynb",
      "provenance": [],
      "authorship_tag": "ABX9TyPmB1qyXvQDD1HKViLBNcRv",
      "include_colab_link": true
    },
    "kernelspec": {
      "name": "python3",
      "display_name": "Python 3"
    },
    "language_info": {
      "name": "python"
    }
  },
  "cells": [
    {
      "cell_type": "markdown",
      "metadata": {
        "id": "view-in-github",
        "colab_type": "text"
      },
      "source": [
        "<a href=\"https://colab.research.google.com/github/nadineelnaggar/Plain-RNN-Counter-Experiments/blob/master/Generate_Dyck1_Sequences.ipynb\" target=\"_parent\"><img src=\"https://colab.research.google.com/assets/colab-badge.svg\" alt=\"Open In Colab\"/></a>"
      ]
    },
    {
      "cell_type": "markdown",
      "source": [
        "##Clone Repo"
      ],
      "metadata": {
        "id": "SOv4V5vwL1xG"
      }
    },
    {
      "cell_type": "code",
      "execution_count": 3,
      "metadata": {
        "colab": {
          "base_uri": "https://localhost:8080/"
        },
        "id": "GMTfNoEUuIr8",
        "outputId": "1eff6974-61f8-4d63-9dc8-16350836802f"
      },
      "outputs": [
        {
          "output_type": "stream",
          "name": "stdout",
          "text": [
            "Cloning into 'Plain-RNN-Counter-Experiments'...\n",
            "remote: Enumerating objects: 73, done.\u001b[K\n",
            "remote: Counting objects: 100% (73/73), done.\u001b[K\n",
            "remote: Compressing objects: 100% (46/46), done.\u001b[K\n",
            "remote: Total 73 (delta 30), reused 62 (delta 24), pack-reused 0\u001b[K\n",
            "Unpacking objects: 100% (73/73), done.\n"
          ]
        }
      ],
      "source": [
        "!git clone https://github.com/nadineelnaggar/Plain-RNN-Counter-Experiments.git"
      ]
    },
    {
      "cell_type": "code",
      "source": [
        "%cd Plain-RNN-Counter-Experiments/"
      ],
      "metadata": {
        "colab": {
          "base_uri": "https://localhost:8080/"
        },
        "id": "uI5cb5y6ufgD",
        "outputId": "4b29607f-eb94-4a10-d83e-8c1c83f7dd51"
      },
      "execution_count": 4,
      "outputs": [
        {
          "output_type": "stream",
          "name": "stdout",
          "text": [
            "/content/Plain-RNN-Counter-Experiments\n"
          ]
        }
      ]
    },
    {
      "cell_type": "markdown",
      "source": [
        "##Run code to generate dataset"
      ],
      "metadata": {
        "id": "aO6bwO8yL8fN"
      }
    },
    {
      "cell_type": "code",
      "source": [
        "!python Dyck_Generator_Suzgun.py"
      ],
      "metadata": {
        "colab": {
          "base_uri": "https://localhost:8080/"
        },
        "id": "u65Xn9Oxum7j",
        "outputId": "9118537d-3caf-4b5f-a162-bac5b350986b"
      },
      "execution_count": 5,
      "outputs": [
        {
          "output_type": "stream",
          "name": "stdout",
          "text": [
            "Loading data...\n",
            "^C\n"
          ]
        }
      ]
    },
    {
      "cell_type": "code",
      "source": [
        ""
      ],
      "metadata": {
        "id": "CKUaBLWXuq0n"
      },
      "execution_count": null,
      "outputs": []
    }
  ]
}