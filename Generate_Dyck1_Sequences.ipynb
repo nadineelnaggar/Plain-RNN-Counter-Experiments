{
  "nbformat": 4,
  "nbformat_minor": 0,
  "metadata": {
    "colab": {
      "name": "Generate_Dyck1_Sequences.ipynb",
      "provenance": [],
      "authorship_tag": "ABX9TyPmB1qyXvQDD1HKViLBNcRv",
      "include_colab_link": true
    },
    "kernelspec": {
      "name": "python3",
      "display_name": "Python 3"
    },
    "language_info": {
      "name": "python"
    },
    "accelerator": "GPU"
  },
  "cells": [
    {
      "cell_type": "markdown",
      "metadata": {
        "id": "view-in-github",
        "colab_type": "text"
      },
      "source": [
        "<a href=\"https://colab.research.google.com/github/nadineelnaggar/Plain-RNN-Counter-Experiments/blob/master/Generate_Dyck1_Sequences.ipynb\" target=\"_parent\"><img src=\"https://colab.research.google.com/assets/colab-badge.svg\" alt=\"Open In Colab\"/></a>"
      ]
    },
    {
      "cell_type": "markdown",
      "source": [
        "##Clone Repo"
      ],
      "metadata": {
        "id": "SOv4V5vwL1xG"
      }
    },
    {
      "cell_type": "code",
      "execution_count": 2,
      "metadata": {
        "colab": {
          "base_uri": "https://localhost:8080/"
        },
        "id": "GMTfNoEUuIr8",
        "outputId": "4188a5bc-c343-450c-e236-c75613cf0f71"
      },
      "outputs": [
        {
          "output_type": "stream",
          "name": "stdout",
          "text": [
            "Cloning into 'Plain-RNN-Counter-Experiments'...\n",
            "remote: Enumerating objects: 62, done.\u001b[K\n",
            "remote: Counting objects: 100% (62/62), done.\u001b[K\n",
            "remote: Compressing objects: 100% (38/38), done.\u001b[K\n",
            "remote: Total 62 (delta 23), reused 55 (delta 21), pack-reused 0\u001b[K\n",
            "Unpacking objects: 100% (62/62), done.\n"
          ]
        }
      ],
      "source": [
        "!git clone https://github.com/nadineelnaggar/Plain-RNN-Counter-Experiments.git"
      ]
    },
    {
      "cell_type": "code",
      "source": [
        "%cd Plain-RNN-Counter-Experiments/"
      ],
      "metadata": {
        "colab": {
          "base_uri": "https://localhost:8080/"
        },
        "id": "uI5cb5y6ufgD",
        "outputId": "8f9f0211-a6f6-48e1-f4b9-d79bc37a2a9e"
      },
      "execution_count": 3,
      "outputs": [
        {
          "output_type": "stream",
          "name": "stdout",
          "text": [
            "/content/Plain-RNN-Counter-Experiments\n"
          ]
        }
      ]
    },
    {
      "cell_type": "markdown",
      "source": [
        "##Run code to generate dataset"
      ],
      "metadata": {
        "id": "aO6bwO8yL8fN"
      }
    },
    {
      "cell_type": "code",
      "source": [
        "!python Dyck_Generator_Suzgun.py"
      ],
      "metadata": {
        "colab": {
          "base_uri": "https://localhost:8080/"
        },
        "id": "u65Xn9Oxum7j",
        "outputId": "d9afcd8e-df53-4011-9b83-c8fa075b7ab2"
      },
      "execution_count": 4,
      "outputs": [
        {
          "output_type": "stream",
          "name": "stdout",
          "text": [
            "Loading data...\n",
            "Traceback (most recent call last):\n",
            "  File \"Dyck_Generator_Suzgun.py\", line 173, in <module>\n",
            "    training_input, training_output, st = Dyck.training_set_generator (TRAINING_SIZE, MIN_SIZE, MAX_SIZE)\n",
            "  File \"Dyck_Generator_Suzgun.py\", line 116, in training_set_generator\n",
            "    input_arr, input_size_arr = self.generate_list(num, min_size, max_size)\n",
            "  File \"Dyck_Generator_Suzgun.py\", line 63, in generate_list\n",
            "    if sample not in arr and len(sample) >= min_size:\n",
            "KeyboardInterrupt\n",
            "^C\n"
          ]
        }
      ]
    },
    {
      "cell_type": "code",
      "source": [
        ""
      ],
      "metadata": {
        "id": "CKUaBLWXuq0n"
      },
      "execution_count": null,
      "outputs": []
    }
  ]
}